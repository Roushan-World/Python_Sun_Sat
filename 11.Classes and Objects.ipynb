{
 "cells": [
  {
   "cell_type": "markdown",
   "id": "5da15500-59eb-474d-bccb-35ea44da0a2c",
   "metadata": {},
   "source": [
    "# 11. Classes and Objects in Python\n",
    "\n",
    " * __Python is an object-oriented programming language.__\n",
    " * __Unlike procedure-oriented programming, where the main emphasis is on function, object-oriented programming stresses on object.__\n",
    " * __An object is simply a collection of data (variable) and method (functions) that act on those data.__\n",
    " * __Similarly, a class is a blueprint for that object.__\n",
    " * __Like funciton definitions begin with the def keyword in Python, class definitions begin with a class keyword.__\n",
    " * __The first string inside the class is called docstring and has a bried description of the class.__\n",
    " * __Althrough not mandatory, this highly recommended.__"
   ]
  },
  {
   "cell_type": "code",
   "execution_count": 3,
   "id": "8f8c0ecb-4d2c-4d96-be02-fc79a9290ffd",
   "metadata": {},
   "outputs": [
    {
     "name": "stdout",
     "output_type": "stream",
     "text": [
      "Balaji\n",
      "25\n",
      "xyz@gmail.com\n",
      "98489456498\n"
     ]
    }
   ],
   "source": [
    "class Student:\n",
    "    def __init__(self,name,age,contact,email,phone):\n",
    "        self.name=name\n",
    "        self.age=age\n",
    "        self.contact=contact\n",
    "        self.email=email\n",
    "        self.phone=phone\n",
    "\n",
    "balaji=Student('Balaji',25,'pune','xyz@gmail.com',98489456498)\n",
    "print(balaji.name)\n",
    "print(balaji.age)\n",
    "print(balaji.email)\n",
    "print(balaji.phone)\n"
   ]
  },
  {
   "cell_type": "code",
   "execution_count": 4,
   "id": "d246f4cc-9d89-40b4-97f4-6b5033d7aaba",
   "metadata": {},
   "outputs": [
    {
     "name": "stdout",
     "output_type": "stream",
     "text": [
      "Sainath\n",
      "20\n",
      "xyz26@gmail.com\n",
      "9848945649845\n"
     ]
    }
   ],
   "source": [
    "sainath=Student('Sainath',20,'Aurangabad','xyz26@gmail.com',9848945649845)\n",
    "print(sainath.name)\n",
    "print(sainath.age)\n",
    "print(sainath.email)\n",
    "print(sainath.phone)"
   ]
  },
  {
   "cell_type": "code",
   "execution_count": 5,
   "id": "6da73cc6-22ae-46a6-b822-05ba00ecd4f1",
   "metadata": {},
   "outputs": [
    {
     "data": {
      "text/plain": [
       "'Balaji'"
      ]
     },
     "execution_count": 5,
     "metadata": {},
     "output_type": "execute_result"
    }
   ],
   "source": [
    "balaji.name"
   ]
  },
  {
   "cell_type": "code",
   "execution_count": 6,
   "id": "2499157a-b3ca-4ecd-9573-50e1e2b9ad3a",
   "metadata": {},
   "outputs": [
    {
     "data": {
      "text/plain": [
       "25"
      ]
     },
     "execution_count": 6,
     "metadata": {},
     "output_type": "execute_result"
    }
   ],
   "source": [
    "balaji.age"
   ]
  },
  {
   "cell_type": "code",
   "execution_count": 7,
   "id": "ea4c1b4e-9baf-46fb-883a-46f738fc05b0",
   "metadata": {},
   "outputs": [
    {
     "data": {
      "text/plain": [
       "'Sainath'"
      ]
     },
     "execution_count": 7,
     "metadata": {},
     "output_type": "execute_result"
    }
   ],
   "source": [
    "sainath.name"
   ]
  },
  {
   "cell_type": "code",
   "execution_count": 8,
   "id": "3ac77dc1-1390-42a9-a82e-8b4909394fcc",
   "metadata": {},
   "outputs": [
    {
     "data": {
      "text/plain": [
       "20"
      ]
     },
     "execution_count": 8,
     "metadata": {},
     "output_type": "execute_result"
    }
   ],
   "source": [
    "sainath.age"
   ]
  },
  {
   "cell_type": "code",
   "execution_count": 12,
   "id": "798b3187-0d0f-4f6a-ba88-a869be847b37",
   "metadata": {},
   "outputs": [
    {
     "name": "stdout",
     "output_type": "stream",
     "text": [
      "Balaji\n",
      "25\n",
      "xyz@gmail.com\n",
      "6545665\n"
     ]
    }
   ],
   "source": [
    "class Student:\n",
    "    def __init__(x,name,age,contact,email,phone='NO'):\n",
    "        x.name=name\n",
    "        x.age=age\n",
    "        x.contact=contact\n",
    "        x.email=email\n",
    "        x.phone=phone\n",
    "\n",
    "balaji=Student('Balaji',25,'pune','xyz@gmail.com',6545665)\n",
    "print(balaji.name)\n",
    "print(balaji.age)\n",
    "print(balaji.email)\n",
    "print(balaji.phone)"
   ]
  },
  {
   "cell_type": "code",
   "execution_count": 15,
   "id": "926fb30d-755f-4771-804a-59f044505506",
   "metadata": {},
   "outputs": [
    {
     "name": "stdout",
     "output_type": "stream",
     "text": [
      "Sainath\n",
      "26\n"
     ]
    }
   ],
   "source": [
    "class stu:\n",
    "    def __init__(sainath,name,age):\n",
    "        sainath.name=name\n",
    "        sainath.age=age\n",
    "\n",
    "x=stu('Sainath',26)\n",
    "print(x.name)\n",
    "print(x.age)"
   ]
  },
  {
   "cell_type": "code",
   "execution_count": 2,
   "id": "eec46d68-3282-4cbb-b431-34f9eb9905d1",
   "metadata": {},
   "outputs": [
    {
     "name": "stdout",
     "output_type": "stream",
     "text": [
      "My name is Balaji\n",
      "I am 25 years old.\n",
      "My contact address is: pune.\n",
      "You can mail me on xyz@gmail.com.\n",
      "My Phone number is 6545665.\n"
     ]
    }
   ],
   "source": [
    "class Student:\n",
    "    def __init__(x,name,age,contact,email,phone='NO'):\n",
    "        x.name=name\n",
    "        x.age=age\n",
    "        x.contact=contact\n",
    "        x.email=email\n",
    "        x.phone=phone\n",
    "    def details(x):\n",
    "        print(f'My name is {x.name}')\n",
    "        print(f'I am {x.age} years old.')\n",
    "        print(f'My contact address is: {x.contact}.')\n",
    "        print(f'You can mail me on {x.email}.')\n",
    "        print(f'My Phone number is {x.phone}.')\n",
    "balaji=Student('Balaji',25,'pune','xyz@gmail.com',6545665)\n",
    "balaji.details()"
   ]
  },
  {
   "cell_type": "code",
   "execution_count": 3,
   "id": "294e6500-4806-4f7a-ad9d-40179f235a68",
   "metadata": {},
   "outputs": [
    {
     "name": "stdout",
     "output_type": "stream",
     "text": [
      "My name is Sainath\n",
      "I am 25 years old.\n",
      "My contact address is: Pune.\n",
      "You can mail me on xyz@gmail.com.\n",
      "My Phone number is 7894561230.\n"
     ]
    }
   ],
   "source": [
    "sai=Student('Sainath',25,'Pune','xyz@gmail.com',7894561230)\n",
    "sai.details()"
   ]
  },
  {
   "cell_type": "code",
   "execution_count": 6,
   "id": "ae15d28c-b84d-4720-abfa-17d5350587a7",
   "metadata": {},
   "outputs": [
    {
     "name": "stdin",
     "output_type": "stream",
     "text": [
      "Enter your name: balaji\n",
      "Enter your age 25\n",
      "Enter your address pune\n",
      "Enter your email: xy@gmail.com\n",
      "Enter your phone number: 123\n"
     ]
    },
    {
     "name": "stdout",
     "output_type": "stream",
     "text": [
      "My name is balaji\n",
      "I am 25 years old.\n",
      "My contact address is: pune.\n"
     ]
    }
   ],
   "source": [
    "class Student:\n",
    "   \n",
    "    def __init__(x,name,age,contact,email,phone='NO'):\n",
    "        x.name=name\n",
    "        x.age=age\n",
    "        x.contact=contact\n",
    "        x.email=email\n",
    "        x.phone=phone\n",
    "    def details(x):\n",
    "        print(f'My name is {x.name}')\n",
    "        print(f'I am {x.age} years old.')\n",
    "        print(f'My contact address is: {x.contact}.')\n",
    "        print(f'You can mail me on {x.email}.')\n",
    "        print(f'My Phone number is {x.phone}.')\n",
    "\n",
    "name=input('Enter your name:')\n",
    "age=int(input('Enter your age'))\n",
    "contact=input('Enter your address')\n",
    "email=input('Enter your email:')\n",
    "phone=int(input('Enter your phone number:'))\n",
    "balaji=Student(name,age,contact,email,phone)\n",
    "balaji.details()"
   ]
  },
  {
   "cell_type": "code",
   "execution_count": 7,
   "id": "292fff5b-f067-4fd6-a060-d0ae580116ad",
   "metadata": {},
   "outputs": [
    {
     "name": "stdout",
     "output_type": "stream",
     "text": [
      "Book name is: Nagraj.\n",
      "Book has written by: Nagraj.\n",
      "The Book Nagraj is published by Raj comics.\n"
     ]
    }
   ],
   "source": [
    "class book:\n",
    "    def __init__(self,name,author,publish):\n",
    "        self.name=name\n",
    "        self.author=author\n",
    "        self.publish=publish\n",
    "\n",
    "    def details_book(self):\n",
    "        print(f'Book name is: {self.name}.')\n",
    "        print(f'Book has written by: {self.name}.')\n",
    "        print(f'The Book {self.name} is published by {self.publish}.')\n",
    "\n",
    "comic=book('Nagraj','Parshuram Sharma',\"Raj comics\")\n",
    "comic.details_book()"
   ]
  },
  {
   "cell_type": "code",
   "execution_count": 8,
   "id": "a8f16438-578e-40cf-bbe1-484d4d32f6e8",
   "metadata": {},
   "outputs": [
    {
     "name": "stdout",
     "output_type": "stream",
     "text": [
      "Book name is: Ramayan.\n",
      "Book has written by: Ramayan.\n",
      "The Book Ramayan is published by Geeta Press.\n"
     ]
    }
   ],
   "source": [
    "ramayan=book('Ramayan','Valmiki','Geeta Press')\n",
    "ramayan.details_book()"
   ]
  },
  {
   "cell_type": "code",
   "execution_count": 11,
   "id": "037af48d-6991-4c5c-b8c9-898d2c03bb8f",
   "metadata": {},
   "outputs": [
    {
     "name": "stdout",
     "output_type": "stream",
     "text": [
      "Book name is: The Story of my life.\n",
      "Book has written by: The Story of my life.\n",
      "The Book The Story of my life is published by the Ladies' Home Journal.\n"
     ]
    }
   ],
   "source": [
    "novel=book('The Story of my life','Helen Killer',\"the Ladies' Home Journal\")\n",
    "novel.details_book()"
   ]
  },
  {
   "cell_type": "code",
   "execution_count": 12,
   "id": "bb29331a-5533-4195-b606-25eb67e189db",
   "metadata": {},
   "outputs": [],
   "source": [
    "# create a class animal\n",
    "# constructor: kindom, phylum or division, class1,order, family, genus, species.\n",
    "\n"
   ]
  },
  {
   "cell_type": "code",
   "execution_count": 22,
   "id": "b63c6969-85b4-4dbe-a24c-36ddfb30ac34",
   "metadata": {},
   "outputs": [
    {
     "name": "stdout",
     "output_type": "stream",
     "text": [
      "The area of circle is 314.1592653589793 \n",
      "Circumference of circle is: 62.83185307179586\n"
     ]
    }
   ],
   "source": [
    "import math\n",
    "class circle:\n",
    "    def __init__(self,radius):\n",
    "        self.radius=radius\n",
    "\n",
    "    def area(self):\n",
    "        area=math.pi*self.radius*self.radius\n",
    "        circum=2*math.pi*self.radius\n",
    "        return area, circum\n",
    "        \n",
    "\n",
    "    def details(self):\n",
    "        area, circum = self.area()\n",
    "        print('The area of circle is', area, '\\nCircumference of circle is:', circum)\n",
    "\n",
    "circle1=circle(10)\n",
    "circle1.details()"
   ]
  },
  {
   "cell_type": "code",
   "execution_count": 19,
   "id": "b77fefa9-bc07-4983-84f9-7df5f5b3f67f",
   "metadata": {},
   "outputs": [],
   "source": [
    "x=circle(50)\n",
    "x.area()"
   ]
  },
  {
   "cell_type": "markdown",
   "id": "316af4c7-716f-43a5-ba3b-9d691d026606",
   "metadata": {},
   "source": [
    "# Inheritance\n",
    "\n",
    " * __1.Single(simple) Inheritance__\n",
    " * __2.Multilevel Inheritance__\n",
    " * __3.Multiple Inheritance__\n",
    " * __4.Heirarchical Inheritance__\n",
    " * __5.Hybrid Inheritance__"
   ]
  },
  {
   "cell_type": "code",
   "execution_count": 12,
   "id": "d98582c4-b885-4953-aed8-66699815be60",
   "metadata": {},
   "outputs": [
    {
     "name": "stdout",
     "output_type": "stream",
     "text": [
      "Amazon is an Online Commerce Store\n",
      "Amazon is an Online Store\n",
      "Amazon is an E-Commerce Store\n",
      "Flipkart is an Online Commerce Store\n",
      "Flipkart is an Online Store\n",
      "Flipkart is an E-Commerce Store\n",
      "Myntra is an Online Commerce Store\n",
      "Myntra is an Online Store\n",
      "Myntra is an E-Commerce Store\n"
     ]
    }
   ],
   "source": [
    "# Single Inheritance\n",
    "\n",
    "class parent:\n",
    "    brand_name_1='Amazon'\n",
    "    brand_name_2='Flipkart'\n",
    "    brand_name_3='Myntra'\n",
    "\n",
    "\n",
    "class child(parent):\n",
    "    prod_1='Online Commerce Store'\n",
    "    prod_2='Online Store'\n",
    "    prod_3='E-Commerce Store'\n",
    "\n",
    "\n",
    "obj_1=child()\n",
    "\n",
    "print(obj_1.brand_name_1+' is an '+obj_1.prod_1)\n",
    "print(obj_1.brand_name_1+' is an '+obj_1.prod_2)\n",
    "print(obj_1.brand_name_1+' is an '+obj_1.prod_3)\n",
    "print(obj_1.brand_name_2+' is an '+obj_1.prod_1)\n",
    "print(obj_1.brand_name_2+' is an '+obj_1.prod_2)\n",
    "print(obj_1.brand_name_2+' is an '+obj_1.prod_3)\n",
    "print(obj_1.brand_name_3+' is an '+obj_1.prod_1)\n",
    "print(obj_1.brand_name_3+' is an '+obj_1.prod_2)\n",
    "print(obj_1.brand_name_3+' is an '+obj_1.prod_3)"
   ]
  },
  {
   "cell_type": "code",
   "execution_count": 19,
   "id": "c4a2efff-c8a7-4997-8445-25db92bceb65",
   "metadata": {},
   "outputs": [
    {
     "name": "stdout",
     "output_type": "stream",
     "text": [
      "Amazon is an Online Commerce Store and its popularity is 100\n"
     ]
    }
   ],
   "source": [
    "# 2.Multilevel Inheritance\n",
    "\n",
    "class Brand:\n",
    "    brand_name_1='Amazon'\n",
    "    brand_name_2='Flipkart'\n",
    "    brand_name_3='Myntra'\n",
    "\n",
    "\n",
    "class Child(Brand):\n",
    "    prod_1='Online Commerce Store'\n",
    "    prod_2='Online Store'\n",
    "    prod_3='E-Commerce Store'\n",
    "\n",
    "class child_2(Child):\n",
    "    popularity_1='100'\n",
    "    popularity_2='500'\n",
    "    popularity_3='300'    \n",
    "\n",
    "\n",
    "obj_1=child_2()\n",
    "\n",
    "print(obj_1.brand_name_1+' is an '+obj_1.prod_1+' and its popularity is '+obj_1.popularity_1)"
   ]
  },
  {
   "cell_type": "code",
   "execution_count": 20,
   "id": "b63ff20d-0f10-4f69-b8ac-e20c8754220f",
   "metadata": {},
   "outputs": [
    {
     "name": "stdout",
     "output_type": "stream",
     "text": [
      "Amazon is an Online Commerce Store and its popularity is 100\n"
     ]
    }
   ],
   "source": [
    "# Multiple Inheritance:\n",
    "\n",
    "class Brands:\n",
    "    brand_name_1='Amazon'\n",
    "    brand_name_2='FlipKart'\n",
    "    brand_name_3='Myntra'\n",
    "\n",
    "class Child:\n",
    "    prod_1='Online Commerce Store'\n",
    "    prod_2='Online Store'\n",
    "    prod_3='E-Commerce Store'\n",
    "\n",
    "class child_2(Child, Brands):\n",
    "    popularity_1='100'\n",
    "    popularity_2='500'\n",
    "    popularity_3='300' \n",
    "\n",
    "obj=child_2()\n",
    "\n",
    "print(obj.brand_name_1+' is an '+obj.prod_1+' and its popularity is '+obj.popularity_1)"
   ]
  },
  {
   "cell_type": "code",
   "execution_count": 23,
   "id": "9e46fb28-7d72-4a40-994e-2e82c3442dc0",
   "metadata": {},
   "outputs": [
    {
     "name": "stdout",
     "output_type": "stream",
     "text": [
      "Amazon is an Online Commerce Store and its popularity is 100 and its value is Best Value\n"
     ]
    }
   ],
   "source": [
    "# Hierarchical Inheritance\n",
    "\n",
    "class Brands:\n",
    "    brand_name_1='Amazon'\n",
    "    brand_name_2='FlipKart'\n",
    "    brand_name_3='Myntra'\n",
    "\n",
    "class Child(Brands):\n",
    "    prod_1='Online Commerce Store'\n",
    "    prod_2='Online Store'\n",
    "    prod_3='E-Commerce Store'\n",
    "\n",
    "class child_2(Brands):\n",
    "    popularity_1='100'\n",
    "    popularity_2='500'\n",
    "    popularity_3='300'\n",
    "\n",
    "class value(Brands):\n",
    "    prod_value_1='Best Value'\n",
    "    prod_value_2='Better Value'\n",
    "    prod_value_3='Good Value'\n",
    "    \n",
    "    \n",
    "\n",
    "obj_1=Child()\n",
    "obj_2=child_2()\n",
    "obj_3=value()\n",
    "\n",
    "print(obj_1.brand_name_1+' is an '+obj_1.prod_1+' and its popularity is '+obj_2.popularity_1+' and its value is '+obj_3.prod_value_1)"
   ]
  },
  {
   "cell_type": "code",
   "execution_count": 29,
   "id": "ae0eea31-df7d-46bd-bd06-9ccb25aa4594",
   "metadata": {},
   "outputs": [
    {
     "name": "stdout",
     "output_type": "stream",
     "text": [
      "Karan Johar\n",
      "Orry\n",
      "Yash and Roohi\n",
      "final Product\n"
     ]
    }
   ],
   "source": [
    "# Hybrid Inheritance\n",
    "\n",
    "class a:\n",
    "    def name_a(self):\n",
    "        return('Karan Johar')\n",
    "\n",
    "class b:\n",
    "    def name_b(self):\n",
    "        return('Orry')\n",
    "\n",
    "class c(a):\n",
    "    def name_c(self):\n",
    "        return('Yash and Roohi')\n",
    "\n",
    "class d(b,c):\n",
    "    def name_d(self):\n",
    "        return('final Product')\n",
    "\n",
    "obj=d()\n",
    "print(obj.name_a())\n",
    "print(obj.name_b())\n",
    "print(obj.name_c())\n",
    "print(obj.name_d())\n",
    "    "
   ]
  },
  {
   "cell_type": "markdown",
   "id": "02d27552-ca35-4a3e-ae4e-727a5c98a127",
   "metadata": {},
   "source": [
    "# 4. Method of oops concept\n",
    "\n",
    " * __1.Inheritance__\n",
    " * __2.Polymorphism__\n",
    " * __3.Encapsulation__\n",
    " * __4.Abstraction__"
   ]
  },
  {
   "cell_type": "code",
   "execution_count": null,
   "id": "0c1936ce-7ec8-4d38-b116-71508539ba8d",
   "metadata": {},
   "outputs": [],
   "source": [
    "# Inheritance:\n",
    "#Puppies\n",
    "\n",
    "#parenet\n",
    "#same color\n",
    "#same breed\n",
    "#same features"
   ]
  },
  {
   "cell_type": "code",
   "execution_count": 2,
   "id": "eba84da6-a465-4b8c-b8af-306e5d7205e2",
   "metadata": {},
   "outputs": [],
   "source": [
    "# Encapsulation\n",
    "\n",
    "# a company\n",
    "\n",
    "# production department\n",
    "# hr department\n",
    "# marketing departement"
   ]
  },
  {
   "cell_type": "code",
   "execution_count": 3,
   "id": "42367259-8601-4dba-9657-9afaee06c2db",
   "metadata": {},
   "outputs": [],
   "source": [
    "# abstraction\n",
    "\n",
    "# a mobile phone\n",
    "\n",
    "# take a selfie\n",
    "# make a call\n",
    "\n",
    "# play games\n",
    "# browse internet\n",
    "\n",
    "# read news."
   ]
  },
  {
   "cell_type": "code",
   "execution_count": 9,
   "id": "15248532-70bf-44af-b24f-5e44d6f575d6",
   "metadata": {},
   "outputs": [
    {
     "name": "stdout",
     "output_type": "stream",
     "text": [
      "Hello i am calling child class.\n"
     ]
    }
   ],
   "source": [
    "# super function\n",
    "\n",
    "class parent:\n",
    "    def parent_method(self):\n",
    "        print('Hello I am calling parent class.')\n",
    "        print('Hello I am calling parent features.')\n",
    "\n",
    "class child_class(parent):\n",
    "    def parent_method(self):\n",
    "        print('Hello i am calling child class.')\n",
    "\n",
    "\n",
    "x=child_class()\n",
    "x.parent_method()"
   ]
  },
  {
   "cell_type": "code",
   "execution_count": 10,
   "id": "6d7e8d58-3c00-4e16-9eca-abb2b1b7a20b",
   "metadata": {},
   "outputs": [
    {
     "name": "stdout",
     "output_type": "stream",
     "text": [
      "Hello I am calling parent class.\n",
      "Hello I am calling parent features.\n"
     ]
    }
   ],
   "source": [
    "y=parent()\n",
    "y.parent_method()"
   ]
  },
  {
   "cell_type": "code",
   "execution_count": 16,
   "id": "76e92d0f-a68d-4777-bbf8-c1bca5331fcb",
   "metadata": {},
   "outputs": [
    {
     "name": "stdout",
     "output_type": "stream",
     "text": [
      "Balaji\n",
      "25\n",
      "Fergussion\n",
      "456789123\n",
      "xyz@bablji.com\n"
     ]
    },
    {
     "data": {
      "text/plain": [
       "'Pune'"
      ]
     },
     "execution_count": 16,
     "metadata": {},
     "output_type": "execute_result"
    }
   ],
   "source": [
    "class person:\n",
    "    def __init__(self,name,age,college,phone_no,email):\n",
    "        self.name=name\n",
    "        self.age=age\n",
    "        self.college=college\n",
    "        self.phone_no=phone_no\n",
    "        self.email=email\n",
    "\n",
    "\n",
    "class person2:\n",
    "    def __init__(self,address):\n",
    "        self.address=address\n",
    "\n",
    "\n",
    "\n",
    "bablji=person('Balaji',25,'Fergussion','456789123','xyz@bablji.com')\n",
    "print(bablji.name)\n",
    "print(bablji.age)\n",
    "print(bablji.college)\n",
    "print(bablji.phone_no)\n",
    "print(bablji.email)\n",
    "\n",
    "\n",
    "obj=person2('Pune')\n",
    "obj.address"
   ]
  },
  {
   "cell_type": "code",
   "execution_count": 20,
   "id": "3a9aa90c-5ac6-4e64-bd9d-f24334ccfc50",
   "metadata": {},
   "outputs": [
    {
     "name": "stdout",
     "output_type": "stream",
     "text": [
      "Balaji\n",
      "25\n",
      "xyz\n",
      "xyz@gmail.com\n",
      "79897979\n",
      "pune\n"
     ]
    }
   ],
   "source": [
    "class person:\n",
    "    def __init__(self,name,age,college,phone_no,email):\n",
    "        self.name=name\n",
    "        self.age=age\n",
    "        self.college=college\n",
    "        self.phone_no=phone_no\n",
    "        self.email=email\n",
    "\n",
    "\n",
    "class person2(person):\n",
    "    def __init__(self,name,age,college,phone_no,email,address):\n",
    "        super().__init__(name,age,college,phone_no,email)\n",
    "        self.address=address\n",
    "\n",
    "\n",
    "obj=person2('Balaji',25,'xyz',79897979,'xyz@gmail.com','pune')\n",
    "print(obj.name)\n",
    "print(obj.age)\n",
    "print(obj.college)\n",
    "print(obj.email)\n",
    "print(obj.phone_no)\n",
    "print(obj.address)"
   ]
  },
  {
   "cell_type": "code",
   "execution_count": 21,
   "id": "2bcde1d7-7d33-4da9-8bcf-df7d8ebd6fd9",
   "metadata": {},
   "outputs": [
    {
     "name": "stdout",
     "output_type": "stream",
     "text": [
      "A\n"
     ]
    }
   ],
   "source": [
    "# class student\n",
    "\n",
    "class student:\n",
    "    def __init__(self,name,age,division):\n",
    "        self.name=name\n",
    "        self.age=age\n",
    "        self.division=division\n",
    "\n",
    "\n",
    "\n",
    "class student2(student):\n",
    "    def __init__(self,name,age,division,rollno):\n",
    "        super().__init__(name,age,division)\n",
    "        self.rollno=rollno\n",
    "\n",
    "\n",
    "obj=student2('Balaji',45,'A',780)\n",
    "print(obj.division)"
   ]
  },
  {
   "cell_type": "code",
   "execution_count": 9,
   "id": "e457198a-6f59-4351-b073-c0ee938009d5",
   "metadata": {},
   "outputs": [
    {
     "name": "stdout",
     "output_type": "stream",
     "text": [
      "My dog name is Shera\n",
      "My dog breed is Labrador\n",
      "It's color is Black\n",
      "My dog is Non-veg\n",
      "It is domestic\n"
     ]
    }
   ],
   "source": [
    "# create a class animal: (name,breed,color,food)\n",
    "\n",
    "class animal:\n",
    "    def __init__(self,name,breed,color,food):\n",
    "        self.name=name\n",
    "        self.breed=breed\n",
    "        self.color=color\n",
    "        self.food=food\n",
    "\n",
    "\n",
    "class dog(animal):\n",
    "    def __init__(self,name,breed,color,food,habitat):\n",
    "        super().__init__(name,breed,color,food)\n",
    "        self.habitat=habitat\n",
    "\n",
    "    def details_dog(self):\n",
    "        print(f'My dog name is {self.name}')\n",
    "        print(f'My dog breed is {self.breed}')\n",
    "        print(f\"It's color is {self.color}\")\n",
    "        print(f'My dog is {self.food}')\n",
    "        print(f\"It is {self.habitat}\")\n",
    "\n",
    "\n",
    "class cat(dog):\n",
    "    def __init__(self,name,breed,color,food,habitat,voice):\n",
    "        super().__init__(name,breed,color,food,habitat)\n",
    "        self.voice=voice\n",
    "\n",
    "    def cat_details(self):\n",
    "        print(f'My dog name is {self.name}')\n",
    "        print(f'My dog breed is {self.breed}')\n",
    "        print(f\"It's color is {self.color}\")\n",
    "        print(f'My dog is {self.food}')\n",
    "        print(f\"It is {self.habitat}\")\n",
    "        print(f\"It's sound like {self.voice}\")\n",
    "\n",
    "x=dog('Shera','Labrador','Black','Non-veg','domestic')\n",
    "x.details_dog()"
   ]
  },
  {
   "cell_type": "code",
   "execution_count": 10,
   "id": "c0a04880-dc59-4c5d-bd2a-44c7f881d027",
   "metadata": {},
   "outputs": [
    {
     "name": "stdout",
     "output_type": "stream",
     "text": [
      "My dog name is Kitty\n",
      "My dog breed is Persion\n",
      "It's color is White\n",
      "My dog is Non-veg\n",
      "It is Domestic\n",
      "It's sound like Meow\n"
     ]
    }
   ],
   "source": [
    "y=cat('Kitty',\"Persion\",\"White\",\"Non-veg\",\"Domestic\",\"Meow\")\n",
    "y.cat_details()"
   ]
  },
  {
   "cell_type": "markdown",
   "id": "682c5173-b5a5-494c-aff2-40e782aecc5e",
   "metadata": {},
   "source": [
    "# 4. Methods of oops concepts"
   ]
  },
  {
   "cell_type": "code",
   "execution_count": 21,
   "id": "e7f46641-e4ac-439e-8c89-54c15616333a",
   "metadata": {},
   "outputs": [
    {
     "name": "stdout",
     "output_type": "stream",
     "text": [
      "Shawn\n",
      "White\n",
      "Bark\n"
     ]
    }
   ],
   "source": [
    "# Inheritance\n",
    "\n",
    "class Animal:\n",
    "    def __init__(self,name):\n",
    "        self.name=name\n",
    "    def speak(self):\n",
    "        pass\n",
    "    def color(self):\n",
    "        pass\n",
    "\n",
    "\n",
    "class Dog(Animal):\n",
    "    def speak(self):\n",
    "        return 'Bark'\n",
    "    def color(self):\n",
    "        return 'White'\n",
    "\n",
    "\n",
    "x1=Dog('Shawn')\n",
    "print(x1.name)\n",
    "print(x1.color())\n",
    "print(x1.speak())"
   ]
  },
  {
   "cell_type": "code",
   "execution_count": 22,
   "id": "216ab820-4bfa-46ed-8685-68c65c9592ca",
   "metadata": {},
   "outputs": [
    {
     "name": "stdout",
     "output_type": "stream",
     "text": [
      "Dog:Bark!\n",
      "Cat:Meows\n",
      "Man:Talks!\n"
     ]
    }
   ],
   "source": [
    "# 2. Polymprphism\n",
    "\n",
    "class Animal:\n",
    "    def speak(self):\n",
    "        print('Animal Speak')\n",
    "\n",
    "class Dog(Animal):\n",
    "    def speak(self):\n",
    "        print('Dog:Bark!')\n",
    "class Cat(Animal):\n",
    "    def speak(self):\n",
    "        print('Cat:Meows')\n",
    "class man(Animal):\n",
    "    def speak(self):\n",
    "        print('Man:Talks!')\n",
    "\n",
    "\n",
    "ani=[Dog(),Cat(),man()]\n",
    "\n",
    "for i in ani:\n",
    "    i.speak()"
   ]
  },
  {
   "cell_type": "code",
   "execution_count": 23,
   "id": "8305c481-a21d-4853-851e-378dffba0035",
   "metadata": {},
   "outputs": [
    {
     "ename": "AttributeError",
     "evalue": "'Encapsulation' object has no attribute '__private__variable'",
     "output_type": "error",
     "traceback": [
      "\u001b[1;31m---------------------------------------------------------------------------\u001b[0m",
      "\u001b[1;31mAttributeError\u001b[0m                            Traceback (most recent call last)",
      "Cell \u001b[1;32mIn[23], line 16\u001b[0m\n\u001b[0;32m     12\u001b[0m         \u001b[38;5;28mself\u001b[39m\u001b[38;5;241m.\u001b[39m__private__variable\u001b[38;5;241m=\u001b[39mnew_value\n\u001b[0;32m     15\u001b[0m obj\u001b[38;5;241m=\u001b[39mEncapsulation(\u001b[38;5;241m10\u001b[39m)\n\u001b[1;32m---> 16\u001b[0m \u001b[43mobj\u001b[49m\u001b[38;5;241;43m.\u001b[39;49m\u001b[43m__private__variable\u001b[49m\n",
      "\u001b[1;31mAttributeError\u001b[0m: 'Encapsulation' object has no attribute '__private__variable'"
     ]
    }
   ],
   "source": [
    "# Encapsulation\n",
    "\n",
    "class Encapsulation:\n",
    "    def __init__(self,value):\n",
    "        self.__private__variable=value\n",
    "\n",
    "\n",
    "    def get_private_variable(self):\n",
    "        return self.__private__variable\n",
    "\n",
    "    def set_private_variable(self,new_value):\n",
    "        self.__private__variable=new_value\n",
    "\n",
    "\n",
    "obj=Encapsulation(10)\n",
    "obj.__private__variable"
   ]
  },
  {
   "cell_type": "code",
   "execution_count": 24,
   "id": "d160b9b0-dd6b-4c19-b76e-9c478120287e",
   "metadata": {},
   "outputs": [
    {
     "data": {
      "text/plain": [
       "10"
      ]
     },
     "execution_count": 24,
     "metadata": {},
     "output_type": "execute_result"
    }
   ],
   "source": [
    "obj.get_private_variable()"
   ]
  },
  {
   "cell_type": "code",
   "execution_count": 25,
   "id": "3f5df806-ec9a-4e04-a14a-7145866ed2f2",
   "metadata": {},
   "outputs": [],
   "source": [
    "obj.set_private_variable(50)"
   ]
  },
  {
   "cell_type": "code",
   "execution_count": 26,
   "id": "f22e1a85-3b51-4e37-bd99-9d2de80d18bb",
   "metadata": {},
   "outputs": [
    {
     "data": {
      "text/plain": [
       "50"
      ]
     },
     "execution_count": 26,
     "metadata": {},
     "output_type": "execute_result"
    }
   ],
   "source": [
    "obj.get_private_variable()"
   ]
  },
  {
   "cell_type": "code",
   "execution_count": 27,
   "id": "5f42d1e0-7bc5-44cd-a5c0-d08aeec090fb",
   "metadata": {},
   "outputs": [],
   "source": [
    "x=Encapsulation(100)"
   ]
  },
  {
   "cell_type": "code",
   "execution_count": 28,
   "id": "942e9b0c-4fa4-4b98-b793-dd378d26fe5f",
   "metadata": {},
   "outputs": [
    {
     "data": {
      "text/plain": [
       "100"
      ]
     },
     "execution_count": 28,
     "metadata": {},
     "output_type": "execute_result"
    }
   ],
   "source": [
    "x.get_private_variable()"
   ]
  },
  {
   "cell_type": "code",
   "execution_count": 30,
   "id": "35036a07-2e2e-42bd-82a8-a83ea4ec79d3",
   "metadata": {},
   "outputs": [
    {
     "data": {
      "text/plain": [
       "50"
      ]
     },
     "execution_count": 30,
     "metadata": {},
     "output_type": "execute_result"
    }
   ],
   "source": [
    "obj.get_private_variable()"
   ]
  },
  {
   "cell_type": "code",
   "execution_count": 31,
   "id": "a55bbd19-df03-4a55-b457-e2d4125a429c",
   "metadata": {},
   "outputs": [],
   "source": [
    "x.set_private_variable(150)"
   ]
  },
  {
   "cell_type": "code",
   "execution_count": 32,
   "id": "8f6b4a22-0e0b-45aa-a215-5d8c331b8447",
   "metadata": {},
   "outputs": [
    {
     "data": {
      "text/plain": [
       "150"
      ]
     },
     "execution_count": 32,
     "metadata": {},
     "output_type": "execute_result"
    }
   ],
   "source": [
    "x.get_private_variable()"
   ]
  },
  {
   "cell_type": "code",
   "execution_count": 34,
   "id": "2c9d6159-9b93-4eb2-8102-fce90e9554e3",
   "metadata": {},
   "outputs": [
    {
     "data": {
      "text/plain": [
       "50"
      ]
     },
     "execution_count": 34,
     "metadata": {},
     "output_type": "execute_result"
    }
   ],
   "source": [
    "obj.get_private_variable()"
   ]
  },
  {
   "cell_type": "markdown",
   "id": "ff6d237c-af40-4ffb-b298-e1873f5eccb7",
   "metadata": {},
   "source": [
    "# Abstract Data class"
   ]
  },
  {
   "cell_type": "code",
   "execution_count": 1,
   "id": "f77d2252-1083-40a0-a3ad-8db9b7f6e775",
   "metadata": {},
   "outputs": [],
   "source": [
    "from abc import ABC,abstractmethod\n",
    "\n",
    "class bank(ABC):\n",
    "    def database(self):\n",
    "        print('Connected to databases.')\n",
    "        \n",
    "    @abstractmethod\n",
    "    def security(self):\n",
    "        pass\n",
    "    @abstractmethod\n",
    "    def name(self):\n",
    "        pass\n",
    "    @abstractmethod\n",
    "    def display(self):\n",
    "        pass"
   ]
  },
  {
   "cell_type": "code",
   "execution_count": 2,
   "id": "7ffdb14e-6e90-4493-84df-8aa319191969",
   "metadata": {},
   "outputs": [
    {
     "ename": "TypeError",
     "evalue": "Can't instantiate abstract class mobile without an implementation for abstract methods 'display', 'name', 'security'",
     "output_type": "error",
     "traceback": [
      "\u001b[1;31m---------------------------------------------------------------------------\u001b[0m",
      "\u001b[1;31mTypeError\u001b[0m                                 Traceback (most recent call last)",
      "Cell \u001b[1;32mIn[2], line 5\u001b[0m\n\u001b[0;32m      2\u001b[0m     \u001b[38;5;28;01mdef\u001b[39;00m \u001b[38;5;21mmob_log\u001b[39m(\u001b[38;5;28mself\u001b[39m):\n\u001b[0;32m      3\u001b[0m         \u001b[38;5;28mprint\u001b[39m(\u001b[38;5;124m'\u001b[39m\u001b[38;5;124mLogin into Mobile\u001b[39m\u001b[38;5;124m'\u001b[39m)\n\u001b[1;32m----> 5\u001b[0m mob1\u001b[38;5;241m=\u001b[39m\u001b[43mmobile\u001b[49m\u001b[43m(\u001b[49m\u001b[43m)\u001b[49m\n\u001b[0;32m      6\u001b[0m mob1\u001b[38;5;241m.\u001b[39mmob_log()\n",
      "\u001b[1;31mTypeError\u001b[0m: Can't instantiate abstract class mobile without an implementation for abstract methods 'display', 'name', 'security'"
     ]
    }
   ],
   "source": [
    "class mobile(bank):\n",
    "    def mob_log(self):\n",
    "        print('Login into Mobile')\n",
    "\n",
    "mob1=mobile()\n",
    "mob1.mob_log()"
   ]
  },
  {
   "cell_type": "code",
   "execution_count": 3,
   "id": "7fad5101-d81c-42ac-abb1-197bc6057003",
   "metadata": {},
   "outputs": [
    {
     "ename": "NameError",
     "evalue": "name 'mob1' is not defined",
     "output_type": "error",
     "traceback": [
      "\u001b[1;31m---------------------------------------------------------------------------\u001b[0m",
      "\u001b[1;31mNameError\u001b[0m                                 Traceback (most recent call last)",
      "Cell \u001b[1;32mIn[3], line 1\u001b[0m\n\u001b[1;32m----> 1\u001b[0m \u001b[43mmob1\u001b[49m\u001b[38;5;241m.\u001b[39msecurity()\n",
      "\u001b[1;31mNameError\u001b[0m: name 'mob1' is not defined"
     ]
    }
   ],
   "source": [
    "mob1.security()"
   ]
  },
  {
   "cell_type": "code",
   "execution_count": 4,
   "id": "66b3e531-eb11-48c5-8526-c349ffc0c65e",
   "metadata": {},
   "outputs": [
    {
     "ename": "NameError",
     "evalue": "name 'mob1' is not defined",
     "output_type": "error",
     "traceback": [
      "\u001b[1;31m---------------------------------------------------------------------------\u001b[0m",
      "\u001b[1;31mNameError\u001b[0m                                 Traceback (most recent call last)",
      "Cell \u001b[1;32mIn[4], line 1\u001b[0m\n\u001b[1;32m----> 1\u001b[0m \u001b[43mmob1\u001b[49m\u001b[38;5;241m.\u001b[39mname()\n",
      "\u001b[1;31mNameError\u001b[0m: name 'mob1' is not defined"
     ]
    }
   ],
   "source": [
    "mob1.name()"
   ]
  },
  {
   "cell_type": "code",
   "execution_count": 5,
   "id": "5c815403-fc8c-45ee-bb7e-3623006316f4",
   "metadata": {},
   "outputs": [
    {
     "ename": "NameError",
     "evalue": "name 'mob1' is not defined",
     "output_type": "error",
     "traceback": [
      "\u001b[1;31m---------------------------------------------------------------------------\u001b[0m",
      "\u001b[1;31mNameError\u001b[0m                                 Traceback (most recent call last)",
      "Cell \u001b[1;32mIn[5], line 1\u001b[0m\n\u001b[1;32m----> 1\u001b[0m \u001b[43mmob1\u001b[49m\u001b[38;5;241m.\u001b[39mdatabase()\n",
      "\u001b[1;31mNameError\u001b[0m: name 'mob1' is not defined"
     ]
    }
   ],
   "source": [
    "mob1.database()"
   ]
  },
  {
   "cell_type": "code",
   "execution_count": null,
   "id": "a7f5b32d-3bd9-4d3b-9d9a-392ca20ca4f1",
   "metadata": {},
   "outputs": [],
   "source": []
  },
  {
   "cell_type": "code",
   "execution_count": null,
   "id": "c6101b4a-e25d-4d86-8e3e-24a486d32c0b",
   "metadata": {},
   "outputs": [],
   "source": []
  }
 ],
 "metadata": {
  "kernelspec": {
   "display_name": "Python 3 (ipykernel)",
   "language": "python",
   "name": "python3"
  },
  "language_info": {
   "codemirror_mode": {
    "name": "ipython",
    "version": 3
   },
   "file_extension": ".py",
   "mimetype": "text/x-python",
   "name": "python",
   "nbconvert_exporter": "python",
   "pygments_lexer": "ipython3",
   "version": "3.12.2"
  }
 },
 "nbformat": 4,
 "nbformat_minor": 5
}
