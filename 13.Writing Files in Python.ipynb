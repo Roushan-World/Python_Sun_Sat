{
 "cells": [
  {
   "cell_type": "markdown",
   "id": "9ea51cd0-267f-4861-b03c-ec2ac9a436a1",
   "metadata": {},
   "source": [
    "# 14. Writing Files in Python\n",
    "\n",
    " * __To Write a text file in Python, you follow these steps:__\n",
    " * __First, open the text file for writing (or appending) using the open() functions.__\n",
    " * __Second, write to the text file using write() or writelines() method.__\n",
    " * __Third, close the file using the close() method.__"
   ]
  },
  {
   "cell_type": "code",
   "execution_count": 1,
   "id": "72669346-822a-4510-9c97-e4b18ea8e6ae",
   "metadata": {},
   "outputs": [],
   "source": [
    "# Writing lines to a file\n",
    "\n",
    "fname=\"balaji.txt\"\n",
    "with open(fname,'w') as f:\n",
    "    f.write('My name is Balaji.\\n')\n",
    "    f.write('My Address is pune.')"
   ]
  },
  {
   "cell_type": "code",
   "execution_count": 2,
   "id": "de14077a-58ad-4e23-a5bd-27180f078d07",
   "metadata": {},
   "outputs": [
    {
     "name": "stdout",
     "output_type": "stream",
     "text": [
      "My name is Balaji.\n",
      "My Address is pune.\n"
     ]
    }
   ],
   "source": [
    "with open(fname,'r') as f:\n",
    "    x=f.read()\n",
    "    print(x)"
   ]
  },
  {
   "cell_type": "code",
   "execution_count": 17,
   "id": "043475f8-0657-429a-8fdf-ef81952e4969",
   "metadata": {},
   "outputs": [
    {
     "name": "stdout",
     "output_type": "stream",
     "text": [
      "Cat\n",
      "Dog\n",
      "Rat\n",
      "Elephant\n"
     ]
    }
   ],
   "source": [
    "list_1=['Cat','Dog','Rat','Elephant']\n",
    "\n",
    "fname='animal.txt'\n",
    "with open(fname,'w') as f:\n",
    "    for i in list_1:\n",
    "        print(i)\n",
    "        #print('\\n')\n",
    "        f.write(i+'\\n')"
   ]
  },
  {
   "cell_type": "code",
   "execution_count": 27,
   "id": "e2e1b9fd-ff2b-435c-8e79-d0bd80a8fb93",
   "metadata": {},
   "outputs": [
    {
     "name": "stdin",
     "output_type": "stream",
     "text": [
      "Enter your file name: balaji\n",
      "Enter your range: 2\n",
      "Enter text here 1: cat\n",
      "Enter text here 2: Dog\n"
     ]
    }
   ],
   "source": [
    "def function():\n",
    "    filename=input('Enter your file name:')\n",
    "    filename=filename+'.txt'\n",
    "    range1=int(input('Enter your range:'))\n",
    "    with open(filename,'w') as f:\n",
    "        for i in range(1,range1+1):\n",
    "            writeline=input(f'Enter text here {i}:')\n",
    "            f.write(writeline+'\\n')\n",
    "        \n",
    "function()"
   ]
  },
  {
   "cell_type": "code",
   "execution_count": 26,
   "id": "c583e8fa-c0d3-4c34-9da6-36a3f0ed5c51",
   "metadata": {},
   "outputs": [
    {
     "name": "stdin",
     "output_type": "stream",
     "text": [
      "Enter your file name balaji.txt\n",
      "Enter your range: 5\n",
      "Enter text here 1: Cow\n",
      "Enter text here 2: Buffalow\n",
      "Enter text here 3: Cat\n",
      "Enter text here 4: Dog\n",
      "Enter text here 5: Elephant\n"
     ]
    }
   ],
   "source": [
    "function()"
   ]
  },
  {
   "cell_type": "code",
   "execution_count": null,
   "id": "dc121632-80c9-4329-8407-c764aa8ff4b9",
   "metadata": {},
   "outputs": [],
   "source": []
  }
 ],
 "metadata": {
  "kernelspec": {
   "display_name": "Python 3 (ipykernel)",
   "language": "python",
   "name": "python3"
  },
  "language_info": {
   "codemirror_mode": {
    "name": "ipython",
    "version": 3
   },
   "file_extension": ".py",
   "mimetype": "text/x-python",
   "name": "python",
   "nbconvert_exporter": "python",
   "pygments_lexer": "ipython3",
   "version": "3.12.2"
  }
 },
 "nbformat": 4,
 "nbformat_minor": 5
}
