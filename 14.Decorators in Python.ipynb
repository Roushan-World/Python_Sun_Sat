{
 "cells": [
  {
   "cell_type": "markdown",
   "id": "f3b50b36-5d66-4491-a33f-633122d3d783",
   "metadata": {},
   "source": [
    "# 14. Decorators in Python\n",
    "\n",
    " * __Decorators provide a simple syntax for calling higher-order functions.__\n",
    " * __By Definitions, a decorators is a function that takes another function and extends their behaviour of the latter function without explicitly modifying it.__\n",
    " * __A decorator in Python is a function that takes another function as it's argument, and return yet another functions.__\n",
    " * __Decorators can extremely useful as they allow the extension of an existing functions, without any modification to the original function source code.__\n"
   ]
  },
  {
   "cell_type": "code",
   "execution_count": 1,
   "id": "c753cc33-772e-456b-8b19-a590b838cb76",
   "metadata": {},
   "outputs": [],
   "source": [
    "import decorator"
   ]
  },
  {
   "cell_type": "code",
   "execution_count": 2,
   "id": "302fa83c-0aa0-4a66-8c78-85889ce127a2",
   "metadata": {},
   "outputs": [],
   "source": [
    "from decorator import *"
   ]
  },
  {
   "cell_type": "code",
   "execution_count": 4,
   "id": "8920454f-2c64-4b2f-b7f7-dbf1e8f00761",
   "metadata": {},
   "outputs": [
    {
     "name": "stdout",
     "output_type": "stream",
     "text": [
      "Hello world\n"
     ]
    }
   ],
   "source": [
    "def mytext(text):\n",
    "    print(text)\n",
    "\n",
    "obj=mytext\n",
    "obj('Hello world')"
   ]
  },
  {
   "cell_type": "code",
   "execution_count": 5,
   "id": "9a026f21-94d7-49e7-b0e2-fb6c5d27df9b",
   "metadata": {},
   "outputs": [
    {
     "data": {
      "text/plain": [
       "49"
      ]
     },
     "execution_count": 5,
     "metadata": {},
     "output_type": "execute_result"
    }
   ],
   "source": [
    "def multi(num):\n",
    "    return num*num\n",
    "multi(7)"
   ]
  },
  {
   "cell_type": "code",
   "execution_count": 8,
   "id": "95d157eb-7979-41b5-8cd3-8cfa70ccf3d9",
   "metadata": {},
   "outputs": [
    {
     "name": "stdout",
     "output_type": "stream",
     "text": [
      "Python is programming language.\n",
      "Hello world\n",
      "Congratulation!\n"
     ]
    }
   ],
   "source": [
    "def mytext():\n",
    "    print('Python is programming language.')\n",
    "    def new_text():\n",
    "        print('Hello world')\n",
    "    def message():\n",
    "        print('Congratulation!')\n",
    "\n",
    "    new_text()\n",
    "    message()\n",
    "mytext()"
   ]
  },
  {
   "cell_type": "code",
   "execution_count": 11,
   "id": "640f4bc9-3861-406a-8aae-70f72e429f5d",
   "metadata": {},
   "outputs": [
    {
     "name": "stdout",
     "output_type": "stream",
     "text": [
      "40\n"
     ]
    }
   ],
   "source": [
    "def multi(x):\n",
    "    return x*10\n",
    "def divide(x):\n",
    "    return x/2\n",
    "\n",
    "def operator(function,num):\n",
    "    y=function(num)\n",
    "    return y\n",
    "\n",
    "print(operator(multi,4))"
   ]
  },
  {
   "cell_type": "code",
   "execution_count": 12,
   "id": "e308ceb1-358c-49f9-a92b-b9cc542f0b1c",
   "metadata": {},
   "outputs": [
    {
     "name": "stdout",
     "output_type": "stream",
     "text": [
      "2.0\n"
     ]
    }
   ],
   "source": [
    "print(operator(divide,4))"
   ]
  },
  {
   "cell_type": "code",
   "execution_count": null,
   "id": "9beb008b-56aa-4ddb-9842-20c719d87c17",
   "metadata": {},
   "outputs": [],
   "source": []
  },
  {
   "cell_type": "code",
   "execution_count": 16,
   "id": "1a80caff-51f5-478b-9bf0-df5051e46ef1",
   "metadata": {},
   "outputs": [
    {
     "data": {
      "text/plain": [
       "'PYTHON IS A PROGRAMMING LANGUAGE'"
      ]
     },
     "execution_count": 16,
     "metadata": {},
     "output_type": "execute_result"
    }
   ],
   "source": [
    "def decorated_text_upper(func):\n",
    "    def upper():\n",
    "        function=func()\n",
    "        text_upper=function.upper()\n",
    "        return text_upper\n",
    "    return upper\n",
    "\n",
    "@decorated_text_upper\n",
    "def text():\n",
    "    y='python is a programming language'\n",
    "    return y\n",
    "\n",
    "obj=text()\n",
    "obj"
   ]
  },
  {
   "cell_type": "code",
   "execution_count": 14,
   "id": "09488832-e423-419a-be0e-762becfb28e3",
   "metadata": {},
   "outputs": [
    {
     "data": {
      "text/plain": [
       "'HELLO WORLD'"
      ]
     },
     "execution_count": 14,
     "metadata": {},
     "output_type": "execute_result"
    }
   ],
   "source": [
    "'Hello world'.upper()"
   ]
  },
  {
   "cell_type": "code",
   "execution_count": 19,
   "id": "99a46f31-ad3f-43bf-b852-ad635c1f165e",
   "metadata": {},
   "outputs": [
    {
     "data": {
      "text/plain": [
       "'PYTHON IS A PROGRAMMING LANGUAGE'"
      ]
     },
     "execution_count": 19,
     "metadata": {},
     "output_type": "execute_result"
    }
   ],
   "source": [
    "def decorated_text_upper(func):\n",
    "    def upper():\n",
    "        function=func()\n",
    "        text_upper=function.upper()\n",
    "        return text_upper\n",
    "    return upper\n",
    "\n",
    "@decorated_text_upper\n",
    "def text():\n",
    "    y='python is a programming language'\n",
    "    return y\n",
    "\n",
    "x=decorated_text_upper(text)\n",
    "x()"
   ]
  },
  {
   "cell_type": "code",
   "execution_count": null,
   "id": "657108dd-3f9f-430e-bb99-4d3b4dcc75c2",
   "metadata": {},
   "outputs": [],
   "source": []
  }
 ],
 "metadata": {
  "kernelspec": {
   "display_name": "Python 3 (ipykernel)",
   "language": "python",
   "name": "python3"
  },
  "language_info": {
   "codemirror_mode": {
    "name": "ipython",
    "version": 3
   },
   "file_extension": ".py",
   "mimetype": "text/x-python",
   "name": "python",
   "nbconvert_exporter": "python",
   "pygments_lexer": "ipython3",
   "version": "3.12.2"
  }
 },
 "nbformat": 4,
 "nbformat_minor": 5
}
