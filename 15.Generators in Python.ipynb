{
 "cells": [
  {
   "cell_type": "markdown",
   "id": "4db5dae9-4171-4997-b552-7c21d9b757e4",
   "metadata": {},
   "source": [
    "# 15. Generators in Python\n",
    "\n",
    " * __Python generators are the function that returns the transversal object and simple way of creating iterators.__\n",
    " * __It transverse the entire item at once.__\n",
    " * __The generators can also be an expression in which syntax is similarly to the list compression in Python.__\n",
    " * __There is a lot of complexity in creating iteration in Python, It is required to implement iter() and next() methods to keep track of internal states.__\n",
    " * __It is lenghty process to create iterators, it raises StopIterations exceptions.__\n",
    " * __It pauses the functions excecution by saving all states and yielded to the caller.__\n",
    " * __Later it resumes execution when a successive function is called.__"
   ]
  },
  {
   "cell_type": "code",
   "execution_count": 1,
   "id": "a5f081c8-2261-4a45-bb6e-b23afbbf0e69",
   "metadata": {},
   "outputs": [
    {
     "name": "stdout",
     "output_type": "stream",
     "text": [
      "[0, 2, 4, 6, 8, 10, 12, 14, 16, 18, 20, 22, 24]\n"
     ]
    }
   ],
   "source": [
    "def function():\n",
    "    for i in range(25):\n",
    "        if i%2==0:\n",
    "            yield i\n",
    "\n",
    "\n",
    "num_list=[]\n",
    "\n",
    "for i in function():\n",
    "    num_list.append(i)\n",
    "print(num_list)"
   ]
  },
  {
   "cell_type": "code",
   "execution_count": 2,
   "id": "fc2c4360-1087-43a7-ba82-5e994932690a",
   "metadata": {},
   "outputs": [
    {
     "name": "stdout",
     "output_type": "stream",
     "text": [
      "Hello world\n"
     ]
    }
   ],
   "source": [
    "def message():\n",
    "    one_msg='Hello world'\n",
    "    yield one_msg\n",
    "\n",
    "    two_msg='Congratulation'\n",
    "    yield two_msg\n",
    "\n",
    "    msg_three='Good Morning!'\n",
    "    yield msg_three\n",
    "\n",
    "\n",
    "play=message()\n",
    "print(next(play))"
   ]
  },
  {
   "cell_type": "code",
   "execution_count": 3,
   "id": "68eae494-9175-4047-bf67-5e6011f1aec1",
   "metadata": {},
   "outputs": [
    {
     "name": "stdout",
     "output_type": "stream",
     "text": [
      "Congratulation\n"
     ]
    }
   ],
   "source": [
    "print(next(play))"
   ]
  },
  {
   "cell_type": "code",
   "execution_count": 4,
   "id": "72f9779d-afce-4de4-a6a4-521d03810b73",
   "metadata": {},
   "outputs": [
    {
     "name": "stdout",
     "output_type": "stream",
     "text": [
      "Good Morning!\n"
     ]
    }
   ],
   "source": [
    "print(next(play))"
   ]
  },
  {
   "cell_type": "code",
   "execution_count": 5,
   "id": "159b7e0a-fc85-4c2a-975e-891424931e99",
   "metadata": {},
   "outputs": [
    {
     "ename": "StopIteration",
     "evalue": "",
     "output_type": "error",
     "traceback": [
      "\u001b[1;31m---------------------------------------------------------------------------\u001b[0m",
      "\u001b[1;31mStopIteration\u001b[0m                             Traceback (most recent call last)",
      "Cell \u001b[1;32mIn[5], line 1\u001b[0m\n\u001b[1;32m----> 1\u001b[0m \u001b[38;5;28mprint\u001b[39m(\u001b[38;5;28;43mnext\u001b[39;49m\u001b[43m(\u001b[49m\u001b[43mplay\u001b[49m\u001b[43m)\u001b[49m)\n",
      "\u001b[1;31mStopIteration\u001b[0m: "
     ]
    }
   ],
   "source": [
    "print(next(play))"
   ]
  },
  {
   "cell_type": "code",
   "execution_count": null,
   "id": "0fcaecfa-ffbc-43f5-88b3-ba4ad9fcd6a0",
   "metadata": {},
   "outputs": [],
   "source": []
  }
 ],
 "metadata": {
  "kernelspec": {
   "display_name": "Python 3 (ipykernel)",
   "language": "python",
   "name": "python3"
  },
  "language_info": {
   "codemirror_mode": {
    "name": "ipython",
    "version": 3
   },
   "file_extension": ".py",
   "mimetype": "text/x-python",
   "name": "python",
   "nbconvert_exporter": "python",
   "pygments_lexer": "ipython3",
   "version": "3.12.2"
  }
 },
 "nbformat": 4,
 "nbformat_minor": 5
}
