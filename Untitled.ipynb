{
 "cells": [
  {
   "cell_type": "code",
   "execution_count": 1,
   "id": "bf1b63d0-bcf9-4d2f-a61d-21531c803b23",
   "metadata": {},
   "outputs": [
    {
     "name": "stdout",
     "output_type": "stream",
     "text": [
      "False\n"
     ]
    }
   ],
   "source": [
    "pi=3.14\n",
    "num=10\n",
    "\n",
    "print(pi>num)"
   ]
  },
  {
   "cell_type": "code",
   "execution_count": 14,
   "id": "c4eb4ceb-3bdd-4dad-971b-7e43d17254e9",
   "metadata": {},
   "outputs": [
    {
     "name": "stdout",
     "output_type": "stream",
     "text": [
      "Pi is lower then number.\n",
      "This is cow\n"
     ]
    }
   ],
   "source": [
    "if pi<num:\n",
    "    print(\"Pi is lower then number.\")\n",
    "    print('This is cow')\n",
    "else:\n",
    "    print(\"Done\")"
   ]
  },
  {
   "cell_type": "code",
   "execution_count": 20,
   "id": "cceb5cdc-90fb-4c23-8bf7-e83e361d4a66",
   "metadata": {},
   "outputs": [
    {
     "name": "stdout",
     "output_type": "stream",
     "text": [
      "You can go to primary school.\n"
     ]
    }
   ],
   "source": [
    "age=5\n",
    "\n",
    "if age<6:\n",
    "    print(\"You can go to primary school.\")\n",
    "elif age==5:\n",
    "    print(\"You should go to kindergarten.\")\n",
    "else:\n",
    "    print(\"You are a baby.\")"
   ]
  },
  {
   "cell_type": "code",
   "execution_count": 25,
   "id": "864fb7e3-08ac-4801-8021-26206e908028",
   "metadata": {},
   "outputs": [
    {
     "name": "stdin",
     "output_type": "stream",
     "text": [
      "Enter your baby age: 5.5\n"
     ]
    },
    {
     "name": "stdout",
     "output_type": "stream",
     "text": [
      "You can go to primary school.\n"
     ]
    }
   ],
   "source": [
    "age=float(input('Enter your baby age:'))\n",
    "\n",
    "if age<6:\n",
    "    print(\"You can go to primary school.\")\n",
    "elif age==5:\n",
    "    print(\"You should go to kindergarten.\")\n",
    "else:\n",
    "    print(\"You are a baby.\")"
   ]
  },
  {
   "cell_type": "code",
   "execution_count": null,
   "id": "f7e78c71-6a25-43b5-9c4c-0a4350677a7a",
   "metadata": {},
   "outputs": [],
   "source": [
    "# movie rating: 8.0 more than you can watch this movie, You can not watch this movie."
   ]
  }
 ],
 "metadata": {
  "kernelspec": {
   "display_name": "Python 3 (ipykernel)",
   "language": "python",
   "name": "python3"
  },
  "language_info": {
   "codemirror_mode": {
    "name": "ipython",
    "version": 3
   },
   "file_extension": ".py",
   "mimetype": "text/x-python",
   "name": "python",
   "nbconvert_exporter": "python",
   "pygments_lexer": "ipython3",
   "version": "3.11.4"
  }
 },
 "nbformat": 4,
 "nbformat_minor": 5
}
